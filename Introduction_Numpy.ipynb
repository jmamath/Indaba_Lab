{
  "nbformat": 4,
  "nbformat_minor": 0,
  "metadata": {
    "colab": {
      "name": "Introduction_Numpy.ipynb",
      "version": "0.3.2",
      "provenance": [],
      "include_colab_link": true
    },
    "kernelspec": {
      "name": "python3",
      "display_name": "Python 3"
    }
  },
  "cells": [
    {
      "cell_type": "markdown",
      "metadata": {
        "id": "view-in-github",
        "colab_type": "text"
      },
      "source": [
        "<a href=\"https://colab.research.google.com/github/jmamath/Indaba_Lab/blob/master/Introduction_Numpy.ipynb\" target=\"_parent\"><img src=\"https://colab.research.google.com/assets/colab-badge.svg\" alt=\"Open In Colab\"/></a>"
      ]
    },
    {
      "metadata": {
        "id": "8H_RPugm06_Z",
        "colab_type": "text"
      },
      "cell_type": "markdown",
      "source": [
        "\n",
        "# Indaba X Sénégal 2019\n",
        "#Tutoriel 1. Python et Numpy"
      ]
    },
    {
      "metadata": {
        "id": "yAxYV0iB1Pcq",
        "colab_type": "text"
      },
      "cell_type": "markdown",
      "source": [
        "### Introduction\n",
        "\n",
        "Ce didacticiel fournit une introduction pratique au langage de programmation Python et à la bibliothèque Numpy pour le calcul scientifique.\n",
        "\n",
        "### Qu'attend-on de vous:\n",
        "\n",
        "Travaillez-y à votre guise avant l'Indaba.\n",
        "Remplissez le formulaire à la fin pour nous faire savoir que vous avez pu le faire avant l'Indaba."
      ]
    },
    {
      "metadata": {
        "id": "4GF0TnA_1gSj",
        "colab_type": "text"
      },
      "cell_type": "markdown",
      "source": [
        "## Introduction\n",
        "Python est un excellent langage de programmation polyvalent, mais avec l'aide de quelques bibliothèques populaires (numpy, scipy, matplotlib), il devient un environnement puissant pour l'informatique scientifique.\n",
        "\n",
        "Nous nous attendons à ce que beaucoup d’entre vous connaissent déjà Python et Numpy; pour le reste d'entre vous, cette section servira de cours accéléré à la fois sur le langage de programmation Python et sur l'utilisation de Python pour l'informatique scientifique."
      ]
    },
    {
      "metadata": {
        "id": "6GDj7Jqo1poL",
        "colab_type": "text"
      },
      "cell_type": "markdown",
      "source": [
        "Dans ce tutoriel, nous couvrirons:\n",
        "\n",
        "* Basic Python: Types de données de base (Conteneurs, Listes, Dictionnaires, Ensembles, Tuples), Fonctions, Classes\n",
        "* Numpy: Tableaux, Indexation de tableaux, Types de données, Calculs de tableaux, Radiodiffusion\n",
        "* Matplotlib: Traçage, sous-parcelles, Images\n",
        "* IPython: Création de cahiers, workflows typiques"
      ]
    },
    {
      "metadata": {
        "id": "UWpp-KyH13OH",
        "colab_type": "text"
      },
      "cell_type": "markdown",
      "source": [
        "## Notions de base de Python\n",
        "Python est un langage de programmation multiparadigme de haut niveau à typage dynamique. On dit souvent que le code Python ressemble presque au pseudocode, car il vous permet d’exprimer des idées très puissantes avec très peu de lignes de code tout en étant très lisible. A titre d'exemple, voici une implémentation de l'algorithme classique quicksort en Python:\n",
        "\n",
        "REMARQUE: dans Colab, vous pouvez exécuter le code dans une cellule en cliquant à l'intérieur de celle-ci et en appuyant simultanément sur les touches Maj + Entrée."
      ]
    },
    {
      "metadata": {
        "id": "bDjJ-QQQ1_c_",
        "colab_type": "code",
        "colab": {
          "base_uri": "https://localhost:8080/",
          "height": 34
        },
        "outputId": "99c190ba-2ed3-409a-a76c-9ba617761e18"
      },
      "cell_type": "code",
      "source": [
        "def quicksort(arr):\n",
        "    if len(arr) <= 1:\n",
        "        return arr\n",
        "    pivot = arr[int(len(arr) / 2)]\n",
        "    left = [x for x in arr if x < pivot]\n",
        "    middle = [x for x in arr if x == pivot]\n",
        "    right = [x for x in arr if x > pivot]\n",
        "    return quicksort(left) + middle + quicksort(right)\n",
        "\n",
        "print(quicksort([3,6,8,10,1,2,1]))"
      ],
      "execution_count": 3,
      "outputs": [
        {
          "output_type": "stream",
          "text": [
            "[1, 1, 2, 3, 6, 8, 10]\n"
          ],
          "name": "stdout"
        }
      ]
    },
    {
      "metadata": {
        "id": "3WYhXAHZ2y6_",
        "colab_type": "text"
      },
      "cell_type": "markdown",
      "source": [
        "## Versions de python\n",
        "Il existe actuellement deux versions différentes de Python, 2.7 et 3.4. De manière quelque peu déroutante, Python 3.0 a introduit de nombreuses modifications du langage incompatibles avec les versions antérieures, de sorte que le code écrit pour 2.7 peut ne pas fonctionner sous 3.4 et inversement. Pour cette classe, tout le code utilisera Python 2.7.\n",
        "\n",
        "Vous pouvez vérifier votre version de Python sur la ligne de commande en exécutant python --version."
      ]
    },
    {
      "metadata": {
        "id": "X2yirw_X28gx",
        "colab_type": "text"
      },
      "cell_type": "markdown",
      "source": [
        "## Types de données de base\n",
        "### Nombres\n",
        "Les entiers et les flottants fonctionnent comme vous le voudriez des autres langues:"
      ]
    },
    {
      "metadata": {
        "id": "MeP6AL9C3Cdv",
        "colab_type": "code",
        "colab": {
          "base_uri": "https://localhost:8080/",
          "height": 34
        },
        "outputId": "b01da038-d3c8-458d-884c-025b83fe2c11"
      },
      "cell_type": "code",
      "source": [
        "x = 3\n",
        "print(x, type(x))"
      ],
      "execution_count": 5,
      "outputs": [
        {
          "output_type": "stream",
          "text": [
            "3 <class 'int'>\n"
          ],
          "name": "stdout"
        }
      ]
    },
    {
      "metadata": {
        "id": "Ir5qqznD2CTS",
        "colab_type": "code",
        "colab": {}
      },
      "cell_type": "code",
      "source": [
        "print(x + 1)   # Addition;\n",
        "print(x - 1)   # Subtraction;\n",
        "print(x * 2)   # Multiplication;\n",
        "print(x ** 2)  # Exponentiation;"
      ],
      "execution_count": 0,
      "outputs": []
    }
  ]
}